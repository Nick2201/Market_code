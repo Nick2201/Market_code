{
 "cells": [
  {
   "cell_type": "code",
   "execution_count": 42,
   "id": "663e711b",
   "metadata": {},
   "outputs": [],
   "source": [
    "# streamlit run stream_test.py\n",
    "import yfinance as yf\n",
    "import streamlit as st\n",
    "import datetime\n",
    "import plotly.graph_objects as go\n",
    "import pandas as pd\n",
    "import numpy as np\n",
    "import requests_cache\n",
    "session = requests_cache.CachedSession('yfinance.cache')\n",
    "session.headers['User-agent'] = 'my-program/1.0'\n",
    "\n",
    "def make_plotly(Company_tiker,date_of_buy='2021-04-28'):\n",
    "    tickerSymbol = Company_tiker.upper()\n",
    "\n",
    "    now_now = datetime.datetime.today()\n",
    "\n",
    "    now_data = now_now.strftime('%Y-%m-%d')\n",
    "\n",
    "    start_t = datetime.datetime.strptime(date_of_buy,\"%Y-%m-%d\")\n",
    "    \n",
    "\n",
    "    tickerData = yf.Ticker(tickerSymbol)\n",
    "\n",
    "    tickerDf = tickerData.history(period='1d', start=start_t, end=now_data)\n",
    "\n",
    "    return tickerDf"
   ]
  },
  {
   "cell_type": "code",
   "execution_count": 3,
   "id": "b88891d0",
   "metadata": {},
   "outputs": [],
   "source": [
    "def now_price(company_tiker):\n",
    "    a = make_plotly(company_tiker)\n",
    "    a['Datetime'] = pd.to_datetime(a.index, format=\"%m-%d-%Y\")\n",
    "    info_about_last = a[a.Datetime == a.Datetime.max()]\n",
    "    info_about_last.Close\n",
    "    return float(info_about_last.Close)"
   ]
  },
  {
   "cell_type": "code",
   "execution_count": 60,
   "id": "73ae3bca",
   "metadata": {},
   "outputs": [],
   "source": [
    "def make_candle(df):\n",
    "    fig = go.Figure(data=[go.Candlestick(x=df.index,\n",
    "                                     open=df['Open'], high=df['High'],\n",
    "                                     low=df['Low'], close=df['Close'])\n",
    "                      ])\n",
    "    return fig"
   ]
  },
  {
   "cell_type": "code",
   "execution_count": 8,
   "id": "03b9141f",
   "metadata": {},
   "outputs": [],
   "source": [
    "def make_dict_from_company(basic_porfolio_dox: 'excel document'):\n",
    "    dict_companies_data = {}\n",
    "    for index,row in account.iterrows():\n",
    "        dict_companies_data[row['tiker']] = make_plotly(row['tiker'],str(row['date_purchase'].strftime('%Y-%m-%d')))\n",
    "        dict_companies_data[row['tiker']]['date'] = dict_companies_data[row['tiker']].index\n",
    "    return dict_companies_data"
   ]
  },
  {
   "cell_type": "code",
   "execution_count": 41,
   "id": "23216a41",
   "metadata": {},
   "outputs": [],
   "source": [
    "from functools import reduce\n",
    "def count_mean_measure_all_sec(dict_companies_data):\n",
    "    ac = pd.DataFrame()\n",
    "    frames_number = len(dict_companies_data)\n",
    "    stock_measurets = ['Open', 'High', 'Low', 'Close', 'Volume', 'Dividends', 'Stock Splits']\n",
    "    for measure in stock_measurets:\n",
    "        ac[measure] = reduce(\n",
    "            lambda x,y: dict_companies_data[x][measure]+dict_companies_data[y][measure] ,\n",
    "        dict_companies_data.keys()\n",
    "        )/frames_number\n",
    "    return ac"
   ]
  },
  {
   "cell_type": "code",
   "execution_count": 35,
   "id": "3137d0c2",
   "metadata": {},
   "outputs": [],
   "source": [
    "def porfolio_result(account=account):\n",
    "    dictionary_info = {}\n",
    "    dictionary_info['value_in_usd'] = round(account.result.sum())\n",
    "    dictionary_info['value_in_rub'] =round(account.result.sum())*73\n",
    "    dictionary_info['buy_sum_total'] = account['sum'].sum()\n",
    "    dictionary_info['percent'] = dictionary_info['value_in_usd']/dictionary_info['buy_sum_total']\n",
    "    dictionary_info['percent_display'] = f'{round(dictionary_info[\"percent\"]*100,2)}%'\n",
    "\n",
    "    return dictionary_info"
   ]
  },
  {
   "cell_type": "code",
   "execution_count": 37,
   "id": "bcb2a69d",
   "metadata": {},
   "outputs": [],
   "source": [
    "account = pd.read_excel('my_account.xlsx')\n",
    "account.date_purchase = pd.to_datetime(account.date_purchase, format=\"%m-%d-%Y\")"
   ]
  },
  {
   "cell_type": "code",
   "execution_count": 9,
   "id": "1f614370",
   "metadata": {},
   "outputs": [],
   "source": [
    "dict_companies_data = make_dict_from_company(account)"
   ]
  },
  {
   "cell_type": "code",
   "execution_count": 10,
   "id": "f8cd73ac",
   "metadata": {},
   "outputs": [
    {
     "data": {
      "text/plain": [
       "2"
      ]
     },
     "execution_count": 10,
     "metadata": {},
     "output_type": "execute_result"
    }
   ],
   "source": [
    "len(dict_companies_data)"
   ]
  },
  {
   "cell_type": "code",
   "execution_count": 38,
   "id": "4d445e48",
   "metadata": {},
   "outputs": [],
   "source": [
    "account['sum'] = account['price_buy'] * account['lots_buy']"
   ]
  },
  {
   "cell_type": "code",
   "execution_count": 39,
   "id": "bcef8c62",
   "metadata": {},
   "outputs": [
    {
     "name": "stdout",
     "output_type": "stream",
     "text": [
      "-17.34\n"
     ]
    },
    {
     "data": {
      "text/html": [
       "<div><div id=3af274d2-46e5-4741-a9da-8423bc9f1b42 style=\"display:none; background-color:#9D6CFF; color:white; width:200px; height:30px; padding-left:5px; border-radius:4px; flex-direction:row; justify-content:space-around; align-items:center;\" onmouseover=\"this.style.backgroundColor='#BA9BF8'\" onmouseout=\"this.style.backgroundColor='#9D6CFF'\" onclick=\"window.commands?.execute('create-mitosheet-from-dataframe-output');\">See Full Dataframe in Mito</div> <script> if (window.commands.hasCommand('create-mitosheet-from-dataframe-output')) document.getElementById('3af274d2-46e5-4741-a9da-8423bc9f1b42').style.display = 'flex' </script> <table border=\"1\" class=\"dataframe\">\n",
       "  <thead>\n",
       "    <tr style=\"text-align: right;\">\n",
       "      <th></th>\n",
       "      <th>tiker</th>\n",
       "      <th>price_buy</th>\n",
       "      <th>lots_buy</th>\n",
       "      <th>date_purchase</th>\n",
       "      <th>sum</th>\n",
       "      <th>now_price</th>\n",
       "      <th>now_sum</th>\n",
       "      <th>result</th>\n",
       "      <th>percentage</th>\n",
       "    </tr>\n",
       "  </thead>\n",
       "  <tbody>\n",
       "    <tr>\n",
       "      <th>0</th>\n",
       "      <td>STRA</td>\n",
       "      <td>93</td>\n",
       "      <td>350</td>\n",
       "      <td>2021-04-28</td>\n",
       "      <td>32550</td>\n",
       "      <td>57.650002</td>\n",
       "      <td>20178.0</td>\n",
       "      <td>-12372.0</td>\n",
       "      <td>-0.380092</td>\n",
       "    </tr>\n",
       "    <tr>\n",
       "      <th>1</th>\n",
       "      <td>TNDM</td>\n",
       "      <td>94</td>\n",
       "      <td>110</td>\n",
       "      <td>2021-04-28</td>\n",
       "      <td>10340</td>\n",
       "      <td>138.880005</td>\n",
       "      <td>15277.0</td>\n",
       "      <td>4937.0</td>\n",
       "      <td>0.477466</td>\n",
       "    </tr>\n",
       "  </tbody>\n",
       "</table></div>"
      ],
      "text/plain": [
       "  tiker  price_buy  lots_buy date_purchase    sum   now_price  now_sum  \\\n",
       "0  STRA         93       350    2021-04-28  32550   57.650002  20178.0   \n",
       "1  TNDM         94       110    2021-04-28  10340  138.880005  15277.0   \n",
       "\n",
       "    result  percentage  \n",
       "0 -12372.0   -0.380092  \n",
       "1   4937.0    0.477466  "
      ]
     },
     "execution_count": 39,
     "metadata": {},
     "output_type": "execute_result"
    }
   ],
   "source": [
    "account['now_price'] = list(map(now_price,account.tiker))\n",
    "account['now_sum'] = round(account['now_price']*account['lots_buy'],0)\n",
    "account['result'] = account['now_sum'] - account['sum']\n",
    "account['percentage'] = account['result']/account['sum']\n",
    "print(round(((account.result.sum()*73)/(account['sum'].sum()*73))*100,2))\n",
    "account"
   ]
  },
  {
   "cell_type": "code",
   "execution_count": 40,
   "id": "0cf7b915",
   "metadata": {},
   "outputs": [
    {
     "data": {
      "text/plain": [
       "{'value_in_usd': -7435,\n",
       " 'value_in_rub': -542755,\n",
       " 'buy_sum_total': 42890,\n",
       " 'percent': -0.17335043133597575,\n",
       " 'percent_display': '-17.34%'}"
      ]
     },
     "execution_count": 40,
     "metadata": {},
     "output_type": "execute_result"
    }
   ],
   "source": [
    "porfolio_result()"
   ]
  },
  {
   "cell_type": "code",
   "execution_count": null,
   "id": "ac718bdc",
   "metadata": {},
   "outputs": [],
   "source": []
  }
 ],
 "metadata": {
  "kernelspec": {
   "display_name": "Python 3 (ipykernel)",
   "language": "python",
   "name": "python3"
  },
  "language_info": {
   "codemirror_mode": {
    "name": "ipython",
    "version": 3
   },
   "file_extension": ".py",
   "mimetype": "text/x-python",
   "name": "python",
   "nbconvert_exporter": "python",
   "pygments_lexer": "ipython3",
   "version": "3.8.11"
  },
  "varInspector": {
   "cols": {
    "lenName": 16,
    "lenType": 16,
    "lenVar": 40
   },
   "kernels_config": {
    "python": {
     "delete_cmd_postfix": "",
     "delete_cmd_prefix": "del ",
     "library": "var_list.py",
     "varRefreshCmd": "print(var_dic_list())"
    },
    "r": {
     "delete_cmd_postfix": ") ",
     "delete_cmd_prefix": "rm(",
     "library": "var_list.r",
     "varRefreshCmd": "cat(var_dic_list()) "
    }
   },
   "types_to_exclude": [
    "module",
    "function",
    "builtin_function_or_method",
    "instance",
    "_Feature"
   ],
   "window_display": false
  }
 },
 "nbformat": 4,
 "nbformat_minor": 5
}
